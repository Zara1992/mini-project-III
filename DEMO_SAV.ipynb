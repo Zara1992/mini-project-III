{
 "cells": [
  {
   "cell_type": "code",
   "execution_count": 1,
   "metadata": {},
   "outputs": [],
   "source": [
    "#import Libraries\n",
    "import pandas as pd\n",
    "from sklearn.cluster import KMeans\n",
    "import numpy as np\n",
    "import matplotlib.pyplot as plt\n",
    "plt.rcParams[\"figure.figsize\"] = (12,8)\n",
    "from sklearn.datasets import make_blobs\n",
    "import csv\n",
    "from sklearn.decomposition import PCA"
   ]
  },
  {
   "cell_type": "code",
   "execution_count": 2,
   "metadata": {},
   "outputs": [],
   "source": [
    "savings_df = pd.read_csv(r\"C:\\Users\\zarah\\Desktop\\Lighthouse Labs\\Week5\\mini-project-III\\mini-project-III\\Datafiles\\twm_savings_acct.csv\", sep=';')\n",
    "# clean data by generating new column to look at savings\n",
    "savings_df['total_saved'] = savings_df['ending_balance'] - savings_df['starting_balance']\n",
    "# filter out inactive bank accounts\n",
    "active_filter = savings_df['account_active'] == 'Y '\n",
    "# build bank behaviour df for each customer with savings acct\n",
    "bank_bhv = savings_df[active_filter][['cust_id','acct_nbr','total_saved']]\n"
   ]
  },
  {
   "cell_type": "code",
   "execution_count": 3,
   "metadata": {},
   "outputs": [
    {
     "data": {
      "text/html": [
       "<div>\n",
       "<style scoped>\n",
       "    .dataframe tbody tr th:only-of-type {\n",
       "        vertical-align: middle;\n",
       "    }\n",
       "\n",
       "    .dataframe tbody tr th {\n",
       "        vertical-align: top;\n",
       "    }\n",
       "\n",
       "    .dataframe thead th {\n",
       "        text-align: right;\n",
       "    }\n",
       "</style>\n",
       "<table border=\"1\" class=\"dataframe\">\n",
       "  <thead>\n",
       "    <tr style=\"text-align: right;\">\n",
       "      <th></th>\n",
       "      <th>cust_id</th>\n",
       "      <th>acct_nbr</th>\n",
       "      <th>minimum_balance</th>\n",
       "      <th>acct_type</th>\n",
       "      <th>account_active</th>\n",
       "      <th>acct_start_date</th>\n",
       "      <th>acct_end_date</th>\n",
       "      <th>starting_balance</th>\n",
       "      <th>ending_balance</th>\n",
       "      <th>total_saved</th>\n",
       "    </tr>\n",
       "  </thead>\n",
       "  <tbody>\n",
       "    <tr>\n",
       "      <th>0</th>\n",
       "      <td>1363160</td>\n",
       "      <td>13631603</td>\n",
       "      <td>100</td>\n",
       "      <td>BS</td>\n",
       "      <td>Y</td>\n",
       "      <td>9.5.1988</td>\n",
       "      <td>NaN</td>\n",
       "      <td>113.04</td>\n",
       "      <td>122.54</td>\n",
       "      <td>9.50</td>\n",
       "    </tr>\n",
       "    <tr>\n",
       "      <th>1</th>\n",
       "      <td>1362487</td>\n",
       "      <td>13624873</td>\n",
       "      <td>500</td>\n",
       "      <td>MM</td>\n",
       "      <td>N</td>\n",
       "      <td>27.6.1994</td>\n",
       "      <td>25.8.1995</td>\n",
       "      <td>651.73</td>\n",
       "      <td>12.89</td>\n",
       "      <td>-638.84</td>\n",
       "    </tr>\n",
       "    <tr>\n",
       "      <th>2</th>\n",
       "      <td>1362548</td>\n",
       "      <td>13625483</td>\n",
       "      <td>100</td>\n",
       "      <td>BS</td>\n",
       "      <td>Y</td>\n",
       "      <td>11.11.1986</td>\n",
       "      <td>NaN</td>\n",
       "      <td>250.24</td>\n",
       "      <td>254.02</td>\n",
       "      <td>3.78</td>\n",
       "    </tr>\n",
       "    <tr>\n",
       "      <th>3</th>\n",
       "      <td>1362752</td>\n",
       "      <td>13627523</td>\n",
       "      <td>100</td>\n",
       "      <td>BS</td>\n",
       "      <td>Y</td>\n",
       "      <td>20.2.1995</td>\n",
       "      <td>NaN</td>\n",
       "      <td>600.26</td>\n",
       "      <td>609.33</td>\n",
       "      <td>9.07</td>\n",
       "    </tr>\n",
       "    <tr>\n",
       "      <th>4</th>\n",
       "      <td>1363017</td>\n",
       "      <td>13630173</td>\n",
       "      <td>100</td>\n",
       "      <td>BS</td>\n",
       "      <td>N</td>\n",
       "      <td>27.4.1994</td>\n",
       "      <td>31.10.1995</td>\n",
       "      <td>2011.02</td>\n",
       "      <td>2901.35</td>\n",
       "      <td>890.33</td>\n",
       "    </tr>\n",
       "    <tr>\n",
       "      <th>...</th>\n",
       "      <td>...</td>\n",
       "      <td>...</td>\n",
       "      <td>...</td>\n",
       "      <td>...</td>\n",
       "      <td>...</td>\n",
       "      <td>...</td>\n",
       "      <td>...</td>\n",
       "      <td>...</td>\n",
       "      <td>...</td>\n",
       "      <td>...</td>\n",
       "    </tr>\n",
       "    <tr>\n",
       "      <th>416</th>\n",
       "      <td>1363141</td>\n",
       "      <td>13631413</td>\n",
       "      <td>100</td>\n",
       "      <td>BS</td>\n",
       "      <td>Y</td>\n",
       "      <td>11.11.1994</td>\n",
       "      <td>NaN</td>\n",
       "      <td>177.33</td>\n",
       "      <td>528.57</td>\n",
       "      <td>351.24</td>\n",
       "    </tr>\n",
       "    <tr>\n",
       "      <th>417</th>\n",
       "      <td>1363038</td>\n",
       "      <td>13630383</td>\n",
       "      <td>100</td>\n",
       "      <td>BS</td>\n",
       "      <td>Y</td>\n",
       "      <td>20.2.1995</td>\n",
       "      <td>NaN</td>\n",
       "      <td>333.53</td>\n",
       "      <td>508.26</td>\n",
       "      <td>174.73</td>\n",
       "    </tr>\n",
       "    <tr>\n",
       "      <th>418</th>\n",
       "      <td>1362529</td>\n",
       "      <td>13625293</td>\n",
       "      <td>100</td>\n",
       "      <td>BS</td>\n",
       "      <td>Y</td>\n",
       "      <td>15.11.1992</td>\n",
       "      <td>NaN</td>\n",
       "      <td>662.06</td>\n",
       "      <td>873.14</td>\n",
       "      <td>211.08</td>\n",
       "    </tr>\n",
       "    <tr>\n",
       "      <th>419</th>\n",
       "      <td>1362895</td>\n",
       "      <td>13628953</td>\n",
       "      <td>100</td>\n",
       "      <td>BS</td>\n",
       "      <td>Y</td>\n",
       "      <td>27.6.1995</td>\n",
       "      <td>NaN</td>\n",
       "      <td>169.96</td>\n",
       "      <td>96.25</td>\n",
       "      <td>-73.71</td>\n",
       "    </tr>\n",
       "    <tr>\n",
       "      <th>420</th>\n",
       "      <td>1362855</td>\n",
       "      <td>13628553</td>\n",
       "      <td>100</td>\n",
       "      <td>BS</td>\n",
       "      <td>Y</td>\n",
       "      <td>21.3.1995</td>\n",
       "      <td>NaN</td>\n",
       "      <td>167.71</td>\n",
       "      <td>161.04</td>\n",
       "      <td>-6.67</td>\n",
       "    </tr>\n",
       "  </tbody>\n",
       "</table>\n",
       "<p>421 rows × 10 columns</p>\n",
       "</div>"
      ],
      "text/plain": [
       "     cust_id  acct_nbr  minimum_balance acct_type account_active  \\\n",
       "0    1363160  13631603              100      BS               Y    \n",
       "1    1362487  13624873              500      MM               N    \n",
       "2    1362548  13625483              100      BS               Y    \n",
       "3    1362752  13627523              100      BS               Y    \n",
       "4    1363017  13630173              100      BS               N    \n",
       "..       ...       ...              ...       ...            ...   \n",
       "416  1363141  13631413              100      BS               Y    \n",
       "417  1363038  13630383              100      BS               Y    \n",
       "418  1362529  13625293              100      BS               Y    \n",
       "419  1362895  13628953              100      BS               Y    \n",
       "420  1362855  13628553              100      BS               Y    \n",
       "\n",
       "    acct_start_date acct_end_date  starting_balance  ending_balance  \\\n",
       "0          9.5.1988           NaN            113.04          122.54   \n",
       "1         27.6.1994     25.8.1995            651.73           12.89   \n",
       "2        11.11.1986           NaN            250.24          254.02   \n",
       "3         20.2.1995           NaN            600.26          609.33   \n",
       "4         27.4.1994    31.10.1995           2011.02         2901.35   \n",
       "..              ...           ...               ...             ...   \n",
       "416      11.11.1994           NaN            177.33          528.57   \n",
       "417       20.2.1995           NaN            333.53          508.26   \n",
       "418      15.11.1992           NaN            662.06          873.14   \n",
       "419       27.6.1995           NaN            169.96           96.25   \n",
       "420       21.3.1995           NaN            167.71          161.04   \n",
       "\n",
       "     total_saved  \n",
       "0           9.50  \n",
       "1        -638.84  \n",
       "2           3.78  \n",
       "3           9.07  \n",
       "4         890.33  \n",
       "..           ...  \n",
       "416       351.24  \n",
       "417       174.73  \n",
       "418       211.08  \n",
       "419       -73.71  \n",
       "420        -6.67  \n",
       "\n",
       "[421 rows x 10 columns]"
      ]
     },
     "execution_count": 3,
     "metadata": {},
     "output_type": "execute_result"
    }
   ],
   "source": [
    "savings_df"
   ]
  },
  {
   "cell_type": "code",
   "execution_count": 4,
   "metadata": {},
   "outputs": [],
   "source": [
    "credit_df = pd.read_csv(r\"C:\\Users\\zarah\\Desktop\\Lighthouse Labs\\Week5\\mini-project-III\\mini-project-III\\Datafiles\\twm_credit_acct.csv\", sep=';')\n",
    "# clean data by generating new column to look at debt\n",
    "credit_df['total_debt'] = credit_df['ending_balance'] - credit_df['starting_balance']\n",
    "# filter out inactive bank accounts\n",
    "active_filter = credit_df['account_active'] == 'Y '\n",
    "# join cc accts into customer listing with savings accts\n",
    "bank_bhv = bank_bhv.merge(credit_df[active_filter][['cust_id','acct_nbr','total_debt']], \n",
    "                          left_on='cust_id', right_on='cust_id', how='left')\n",
    "# if customers only have 1/2 accounts, fill NaN with 0\n",
    "bank_bhv = bank_bhv.fillna(0)\n",
    "\n",
    "\n",
    "# rename appropriate columns for ease of reference\n",
    "bank_bhv = bank_bhv.rename(columns={'acct_nbr_x':'savings_acct',\n",
    "                         'acct_nbr_y':'credit_acct'})"
   ]
  },
  {
   "cell_type": "code",
   "execution_count": 5,
   "metadata": {},
   "outputs": [
    {
     "data": {
      "text/html": [
       "<div>\n",
       "<style scoped>\n",
       "    .dataframe tbody tr th:only-of-type {\n",
       "        vertical-align: middle;\n",
       "    }\n",
       "\n",
       "    .dataframe tbody tr th {\n",
       "        vertical-align: top;\n",
       "    }\n",
       "\n",
       "    .dataframe thead th {\n",
       "        text-align: right;\n",
       "    }\n",
       "</style>\n",
       "<table border=\"1\" class=\"dataframe\">\n",
       "  <thead>\n",
       "    <tr style=\"text-align: right;\">\n",
       "      <th></th>\n",
       "      <th>cust_id</th>\n",
       "      <th>savings_acct</th>\n",
       "      <th>total_saved</th>\n",
       "      <th>credit_acct</th>\n",
       "      <th>total_debt</th>\n",
       "    </tr>\n",
       "  </thead>\n",
       "  <tbody>\n",
       "    <tr>\n",
       "      <th>0</th>\n",
       "      <td>1363160</td>\n",
       "      <td>13631603</td>\n",
       "      <td>9.50</td>\n",
       "      <td>4.561143e+15</td>\n",
       "      <td>-370.77</td>\n",
       "    </tr>\n",
       "    <tr>\n",
       "      <th>1</th>\n",
       "      <td>1362548</td>\n",
       "      <td>13625483</td>\n",
       "      <td>3.78</td>\n",
       "      <td>4.561143e+15</td>\n",
       "      <td>-6896.57</td>\n",
       "    </tr>\n",
       "    <tr>\n",
       "      <th>2</th>\n",
       "      <td>1362752</td>\n",
       "      <td>13627523</td>\n",
       "      <td>9.07</td>\n",
       "      <td>0.000000e+00</td>\n",
       "      <td>0.00</td>\n",
       "    </tr>\n",
       "    <tr>\n",
       "      <th>3</th>\n",
       "      <td>1362609</td>\n",
       "      <td>13626093</td>\n",
       "      <td>-709.02</td>\n",
       "      <td>4.561143e+15</td>\n",
       "      <td>1224.93</td>\n",
       "    </tr>\n",
       "    <tr>\n",
       "      <th>4</th>\n",
       "      <td>1363465</td>\n",
       "      <td>13634653</td>\n",
       "      <td>17.44</td>\n",
       "      <td>0.000000e+00</td>\n",
       "      <td>0.00</td>\n",
       "    </tr>\n",
       "    <tr>\n",
       "      <th>...</th>\n",
       "      <td>...</td>\n",
       "      <td>...</td>\n",
       "      <td>...</td>\n",
       "      <td>...</td>\n",
       "      <td>...</td>\n",
       "    </tr>\n",
       "    <tr>\n",
       "      <th>370</th>\n",
       "      <td>1363141</td>\n",
       "      <td>13631413</td>\n",
       "      <td>351.24</td>\n",
       "      <td>0.000000e+00</td>\n",
       "      <td>0.00</td>\n",
       "    </tr>\n",
       "    <tr>\n",
       "      <th>371</th>\n",
       "      <td>1363038</td>\n",
       "      <td>13630383</td>\n",
       "      <td>174.73</td>\n",
       "      <td>4.561143e+15</td>\n",
       "      <td>1800.00</td>\n",
       "    </tr>\n",
       "    <tr>\n",
       "      <th>372</th>\n",
       "      <td>1362529</td>\n",
       "      <td>13625293</td>\n",
       "      <td>211.08</td>\n",
       "      <td>0.000000e+00</td>\n",
       "      <td>0.00</td>\n",
       "    </tr>\n",
       "    <tr>\n",
       "      <th>373</th>\n",
       "      <td>1362895</td>\n",
       "      <td>13628953</td>\n",
       "      <td>-73.71</td>\n",
       "      <td>4.561143e+15</td>\n",
       "      <td>1300.00</td>\n",
       "    </tr>\n",
       "    <tr>\n",
       "      <th>374</th>\n",
       "      <td>1362855</td>\n",
       "      <td>13628553</td>\n",
       "      <td>-6.67</td>\n",
       "      <td>0.000000e+00</td>\n",
       "      <td>0.00</td>\n",
       "    </tr>\n",
       "  </tbody>\n",
       "</table>\n",
       "<p>375 rows × 5 columns</p>\n",
       "</div>"
      ],
      "text/plain": [
       "     cust_id  savings_acct  total_saved   credit_acct  total_debt\n",
       "0    1363160      13631603         9.50  4.561143e+15     -370.77\n",
       "1    1362548      13625483         3.78  4.561143e+15    -6896.57\n",
       "2    1362752      13627523         9.07  0.000000e+00        0.00\n",
       "3    1362609      13626093      -709.02  4.561143e+15     1224.93\n",
       "4    1363465      13634653        17.44  0.000000e+00        0.00\n",
       "..       ...           ...          ...           ...         ...\n",
       "370  1363141      13631413       351.24  0.000000e+00        0.00\n",
       "371  1363038      13630383       174.73  4.561143e+15     1800.00\n",
       "372  1362529      13625293       211.08  0.000000e+00        0.00\n",
       "373  1362895      13628953       -73.71  4.561143e+15     1300.00\n",
       "374  1362855      13628553        -6.67  0.000000e+00        0.00\n",
       "\n",
       "[375 rows x 5 columns]"
      ]
     },
     "execution_count": 5,
     "metadata": {},
     "output_type": "execute_result"
    }
   ],
   "source": [
    "bank_bhv"
   ]
  },
  {
   "cell_type": "code",
   "execution_count": 6,
   "metadata": {},
   "outputs": [],
   "source": [
    "trans_df = pd.read_csv(r\"C:\\Users\\zarah\\Desktop\\Lighthouse Labs\\Week5\\mini-project-III\\mini-project-III\\Datafiles\\twm_transactions.csv\", sep=';')\n",
    "# adding extra column to make multiple agg func on tran_amt column\n",
    "trans_df['tran_avg'] = trans_df['tran_amt']\n",
    "# cleaning data to produce anticipated info\n",
    "trans_df = trans_df[['acct_nbr','tran_avg','tran_amt','tran_id']].groupby('acct_nbr').agg({'tran_avg':'mean','tran_amt':'sum','tran_id':'count'})\n",
    "trans_df = trans_df.rename(columns={'tran_amt':'tran_sum','tran_id':'tran_count'})\n",
    "# merging twice for each account type to receive saving tran and cc trans, respectively\n",
    "bank_bhv = bank_bhv.merge(trans_df, left_on='savings_acct', right_on='acct_nbr', how='inner')\n",
    "bank_bhv = bank_bhv.merge(trans_df, left_on='credit_acct', right_on='acct_nbr', how='inner')\n",
    "\n",
    "# column clean-up for ease of reference\n",
    "bank_bhv = bank_bhv.rename(columns={\n",
    "    'tran_avg_x':'sav_tran_avg',\n",
    "    'tran_avg_y':'cc_tran_avg',\n",
    "    'tran_sum_x':'sav_tran_sum',\n",
    "    'tran_sum_y':'cc_tran_sum',\n",
    "    'tran_count_x':'sav_tran_count',\n",
    "    'tran_count_y':'cc_tran_count'})"
   ]
  },
  {
   "cell_type": "code",
   "execution_count": 8,
   "metadata": {},
   "outputs": [
    {
     "data": {
      "text/html": [
       "<div>\n",
       "<style scoped>\n",
       "    .dataframe tbody tr th:only-of-type {\n",
       "        vertical-align: middle;\n",
       "    }\n",
       "\n",
       "    .dataframe tbody tr th {\n",
       "        vertical-align: top;\n",
       "    }\n",
       "\n",
       "    .dataframe thead th {\n",
       "        text-align: right;\n",
       "    }\n",
       "</style>\n",
       "<table border=\"1\" class=\"dataframe\">\n",
       "  <thead>\n",
       "    <tr style=\"text-align: right;\">\n",
       "      <th></th>\n",
       "      <th>cust_id</th>\n",
       "      <th>savings_acct</th>\n",
       "      <th>total_saved</th>\n",
       "      <th>credit_acct</th>\n",
       "      <th>total_debt</th>\n",
       "      <th>sav_tran_avg</th>\n",
       "      <th>sav_tran_sum</th>\n",
       "      <th>sav_tran_count</th>\n",
       "      <th>cc_tran_avg</th>\n",
       "      <th>cc_tran_sum</th>\n",
       "      <th>cc_tran_count</th>\n",
       "    </tr>\n",
       "  </thead>\n",
       "  <tbody>\n",
       "    <tr>\n",
       "      <th>0</th>\n",
       "      <td>1363160</td>\n",
       "      <td>13631603</td>\n",
       "      <td>9.50</td>\n",
       "      <td>4.561143e+15</td>\n",
       "      <td>-370.77</td>\n",
       "      <td>0.197917</td>\n",
       "      <td>9.50</td>\n",
       "      <td>48</td>\n",
       "      <td>5.588676</td>\n",
       "      <td>380.03</td>\n",
       "      <td>68</td>\n",
       "    </tr>\n",
       "    <tr>\n",
       "      <th>1</th>\n",
       "      <td>1362548</td>\n",
       "      <td>13625483</td>\n",
       "      <td>3.78</td>\n",
       "      <td>4.561143e+15</td>\n",
       "      <td>-6896.57</td>\n",
       "      <td>0.315000</td>\n",
       "      <td>3.78</td>\n",
       "      <td>12</td>\n",
       "      <td>317.147727</td>\n",
       "      <td>6977.25</td>\n",
       "      <td>22</td>\n",
       "    </tr>\n",
       "    <tr>\n",
       "      <th>2</th>\n",
       "      <td>1362609</td>\n",
       "      <td>13626093</td>\n",
       "      <td>-709.02</td>\n",
       "      <td>4.561143e+15</td>\n",
       "      <td>1224.93</td>\n",
       "      <td>-22.854194</td>\n",
       "      <td>-708.48</td>\n",
       "      <td>31</td>\n",
       "      <td>-19.870455</td>\n",
       "      <td>-874.30</td>\n",
       "      <td>44</td>\n",
       "    </tr>\n",
       "    <tr>\n",
       "      <th>3</th>\n",
       "      <td>1363078</td>\n",
       "      <td>13630783</td>\n",
       "      <td>468.57</td>\n",
       "      <td>4.561143e+15</td>\n",
       "      <td>-1238.14</td>\n",
       "      <td>18.053077</td>\n",
       "      <td>469.38</td>\n",
       "      <td>26</td>\n",
       "      <td>26.281400</td>\n",
       "      <td>1314.07</td>\n",
       "      <td>50</td>\n",
       "    </tr>\n",
       "    <tr>\n",
       "      <th>4</th>\n",
       "      <td>1362588</td>\n",
       "      <td>13625883</td>\n",
       "      <td>-242.53</td>\n",
       "      <td>4.561143e+15</td>\n",
       "      <td>546.55</td>\n",
       "      <td>-7.349394</td>\n",
       "      <td>-242.53</td>\n",
       "      <td>33</td>\n",
       "      <td>-9.502407</td>\n",
       "      <td>-513.13</td>\n",
       "      <td>54</td>\n",
       "    </tr>\n",
       "    <tr>\n",
       "      <th>...</th>\n",
       "      <td>...</td>\n",
       "      <td>...</td>\n",
       "      <td>...</td>\n",
       "      <td>...</td>\n",
       "      <td>...</td>\n",
       "      <td>...</td>\n",
       "      <td>...</td>\n",
       "      <td>...</td>\n",
       "      <td>...</td>\n",
       "      <td>...</td>\n",
       "      <td>...</td>\n",
       "    </tr>\n",
       "    <tr>\n",
       "      <th>230</th>\n",
       "      <td>1363385</td>\n",
       "      <td>13633853</td>\n",
       "      <td>1215.74</td>\n",
       "      <td>4.561143e+15</td>\n",
       "      <td>-834.47</td>\n",
       "      <td>39.217419</td>\n",
       "      <td>1215.74</td>\n",
       "      <td>31</td>\n",
       "      <td>22.268947</td>\n",
       "      <td>846.22</td>\n",
       "      <td>38</td>\n",
       "    </tr>\n",
       "    <tr>\n",
       "      <th>231</th>\n",
       "      <td>1363284</td>\n",
       "      <td>13632843</td>\n",
       "      <td>-593.23</td>\n",
       "      <td>4.561143e+15</td>\n",
       "      <td>132.98</td>\n",
       "      <td>-19.116129</td>\n",
       "      <td>-592.60</td>\n",
       "      <td>31</td>\n",
       "      <td>-3.277027</td>\n",
       "      <td>-121.25</td>\n",
       "      <td>37</td>\n",
       "    </tr>\n",
       "    <tr>\n",
       "      <th>232</th>\n",
       "      <td>1362508</td>\n",
       "      <td>13625083</td>\n",
       "      <td>133.47</td>\n",
       "      <td>4.561143e+15</td>\n",
       "      <td>260.21</td>\n",
       "      <td>4.044545</td>\n",
       "      <td>133.47</td>\n",
       "      <td>33</td>\n",
       "      <td>-2.067816</td>\n",
       "      <td>-179.90</td>\n",
       "      <td>87</td>\n",
       "    </tr>\n",
       "    <tr>\n",
       "      <th>233</th>\n",
       "      <td>1363038</td>\n",
       "      <td>13630383</td>\n",
       "      <td>174.73</td>\n",
       "      <td>4.561143e+15</td>\n",
       "      <td>1800.00</td>\n",
       "      <td>5.300303</td>\n",
       "      <td>174.91</td>\n",
       "      <td>33</td>\n",
       "      <td>-72.552917</td>\n",
       "      <td>-1741.27</td>\n",
       "      <td>24</td>\n",
       "    </tr>\n",
       "    <tr>\n",
       "      <th>234</th>\n",
       "      <td>1362895</td>\n",
       "      <td>13628953</td>\n",
       "      <td>-73.71</td>\n",
       "      <td>4.561143e+15</td>\n",
       "      <td>1300.00</td>\n",
       "      <td>-2.632500</td>\n",
       "      <td>-73.71</td>\n",
       "      <td>28</td>\n",
       "      <td>-47.680370</td>\n",
       "      <td>-1287.37</td>\n",
       "      <td>27</td>\n",
       "    </tr>\n",
       "  </tbody>\n",
       "</table>\n",
       "<p>235 rows × 11 columns</p>\n",
       "</div>"
      ],
      "text/plain": [
       "     cust_id  savings_acct  total_saved   credit_acct  total_debt  \\\n",
       "0    1363160      13631603         9.50  4.561143e+15     -370.77   \n",
       "1    1362548      13625483         3.78  4.561143e+15    -6896.57   \n",
       "2    1362609      13626093      -709.02  4.561143e+15     1224.93   \n",
       "3    1363078      13630783       468.57  4.561143e+15    -1238.14   \n",
       "4    1362588      13625883      -242.53  4.561143e+15      546.55   \n",
       "..       ...           ...          ...           ...         ...   \n",
       "230  1363385      13633853      1215.74  4.561143e+15     -834.47   \n",
       "231  1363284      13632843      -593.23  4.561143e+15      132.98   \n",
       "232  1362508      13625083       133.47  4.561143e+15      260.21   \n",
       "233  1363038      13630383       174.73  4.561143e+15     1800.00   \n",
       "234  1362895      13628953       -73.71  4.561143e+15     1300.00   \n",
       "\n",
       "     sav_tran_avg  sav_tran_sum  sav_tran_count  cc_tran_avg  cc_tran_sum  \\\n",
       "0        0.197917          9.50              48     5.588676       380.03   \n",
       "1        0.315000          3.78              12   317.147727      6977.25   \n",
       "2      -22.854194       -708.48              31   -19.870455      -874.30   \n",
       "3       18.053077        469.38              26    26.281400      1314.07   \n",
       "4       -7.349394       -242.53              33    -9.502407      -513.13   \n",
       "..            ...           ...             ...          ...          ...   \n",
       "230     39.217419       1215.74              31    22.268947       846.22   \n",
       "231    -19.116129       -592.60              31    -3.277027      -121.25   \n",
       "232      4.044545        133.47              33    -2.067816      -179.90   \n",
       "233      5.300303        174.91              33   -72.552917     -1741.27   \n",
       "234     -2.632500        -73.71              28   -47.680370     -1287.37   \n",
       "\n",
       "     cc_tran_count  \n",
       "0               68  \n",
       "1               22  \n",
       "2               44  \n",
       "3               50  \n",
       "4               54  \n",
       "..             ...  \n",
       "230             38  \n",
       "231             37  \n",
       "232             87  \n",
       "233             24  \n",
       "234             27  \n",
       "\n",
       "[235 rows x 11 columns]"
      ]
     },
     "execution_count": 8,
     "metadata": {},
     "output_type": "execute_result"
    }
   ],
   "source": [
    "bank_bhv"
   ]
  },
  {
   "cell_type": "code",
   "execution_count": 7,
   "metadata": {},
   "outputs": [],
   "source": [
    "customer_df = pd.read_csv(r\"C:\\Users\\zarah\\Desktop\\Lighthouse Labs\\Week5\\mini-project-III\\mini-project-III\\Datafiles\\twm_customer.csv\", sep=';')\n",
    "# Only filtering by columns I want to pursue, largely income\n",
    "customer_df = customer_df[['cust_id','income']]\n",
    "# merge with customer id to obtain income per row of customer\n",
    "bank_bhv = bank_bhv.merge(customer_df, left_on='cust_id', right_on='cust_id', how='left')"
   ]
  },
  {
   "cell_type": "code",
   "execution_count": 8,
   "metadata": {},
   "outputs": [
    {
     "data": {
      "text/html": [
       "<div>\n",
       "<style scoped>\n",
       "    .dataframe tbody tr th:only-of-type {\n",
       "        vertical-align: middle;\n",
       "    }\n",
       "\n",
       "    .dataframe tbody tr th {\n",
       "        vertical-align: top;\n",
       "    }\n",
       "\n",
       "    .dataframe thead th {\n",
       "        text-align: right;\n",
       "    }\n",
       "</style>\n",
       "<table border=\"1\" class=\"dataframe\">\n",
       "  <thead>\n",
       "    <tr style=\"text-align: right;\">\n",
       "      <th></th>\n",
       "      <th>cust_id</th>\n",
       "      <th>savings_acct</th>\n",
       "      <th>total_saved</th>\n",
       "      <th>credit_acct</th>\n",
       "      <th>total_debt</th>\n",
       "      <th>sav_tran_avg</th>\n",
       "      <th>sav_tran_sum</th>\n",
       "      <th>sav_tran_count</th>\n",
       "      <th>cc_tran_avg</th>\n",
       "      <th>cc_tran_sum</th>\n",
       "      <th>cc_tran_count</th>\n",
       "      <th>income</th>\n",
       "    </tr>\n",
       "  </thead>\n",
       "  <tbody>\n",
       "    <tr>\n",
       "      <th>0</th>\n",
       "      <td>1363160</td>\n",
       "      <td>13631603</td>\n",
       "      <td>9.50</td>\n",
       "      <td>4.561143e+15</td>\n",
       "      <td>-370.77</td>\n",
       "      <td>0.197917</td>\n",
       "      <td>9.50</td>\n",
       "      <td>48</td>\n",
       "      <td>5.588676</td>\n",
       "      <td>380.03</td>\n",
       "      <td>68</td>\n",
       "      <td>18548</td>\n",
       "    </tr>\n",
       "    <tr>\n",
       "      <th>1</th>\n",
       "      <td>1362548</td>\n",
       "      <td>13625483</td>\n",
       "      <td>3.78</td>\n",
       "      <td>4.561143e+15</td>\n",
       "      <td>-6896.57</td>\n",
       "      <td>0.315000</td>\n",
       "      <td>3.78</td>\n",
       "      <td>12</td>\n",
       "      <td>317.147727</td>\n",
       "      <td>6977.25</td>\n",
       "      <td>22</td>\n",
       "      <td>44554</td>\n",
       "    </tr>\n",
       "    <tr>\n",
       "      <th>2</th>\n",
       "      <td>1362609</td>\n",
       "      <td>13626093</td>\n",
       "      <td>-709.02</td>\n",
       "      <td>4.561143e+15</td>\n",
       "      <td>1224.93</td>\n",
       "      <td>-22.854194</td>\n",
       "      <td>-708.48</td>\n",
       "      <td>31</td>\n",
       "      <td>-19.870455</td>\n",
       "      <td>-874.30</td>\n",
       "      <td>44</td>\n",
       "      <td>1929</td>\n",
       "    </tr>\n",
       "    <tr>\n",
       "      <th>3</th>\n",
       "      <td>1363078</td>\n",
       "      <td>13630783</td>\n",
       "      <td>468.57</td>\n",
       "      <td>4.561143e+15</td>\n",
       "      <td>-1238.14</td>\n",
       "      <td>18.053077</td>\n",
       "      <td>469.38</td>\n",
       "      <td>26</td>\n",
       "      <td>26.281400</td>\n",
       "      <td>1314.07</td>\n",
       "      <td>50</td>\n",
       "      <td>9622</td>\n",
       "    </tr>\n",
       "    <tr>\n",
       "      <th>4</th>\n",
       "      <td>1362588</td>\n",
       "      <td>13625883</td>\n",
       "      <td>-242.53</td>\n",
       "      <td>4.561143e+15</td>\n",
       "      <td>546.55</td>\n",
       "      <td>-7.349394</td>\n",
       "      <td>-242.53</td>\n",
       "      <td>33</td>\n",
       "      <td>-9.502407</td>\n",
       "      <td>-513.13</td>\n",
       "      <td>54</td>\n",
       "      <td>6354</td>\n",
       "    </tr>\n",
       "    <tr>\n",
       "      <th>...</th>\n",
       "      <td>...</td>\n",
       "      <td>...</td>\n",
       "      <td>...</td>\n",
       "      <td>...</td>\n",
       "      <td>...</td>\n",
       "      <td>...</td>\n",
       "      <td>...</td>\n",
       "      <td>...</td>\n",
       "      <td>...</td>\n",
       "      <td>...</td>\n",
       "      <td>...</td>\n",
       "      <td>...</td>\n",
       "    </tr>\n",
       "    <tr>\n",
       "      <th>230</th>\n",
       "      <td>1363385</td>\n",
       "      <td>13633853</td>\n",
       "      <td>1215.74</td>\n",
       "      <td>4.561143e+15</td>\n",
       "      <td>-834.47</td>\n",
       "      <td>39.217419</td>\n",
       "      <td>1215.74</td>\n",
       "      <td>31</td>\n",
       "      <td>22.268947</td>\n",
       "      <td>846.22</td>\n",
       "      <td>38</td>\n",
       "      <td>2314</td>\n",
       "    </tr>\n",
       "    <tr>\n",
       "      <th>231</th>\n",
       "      <td>1363284</td>\n",
       "      <td>13632843</td>\n",
       "      <td>-593.23</td>\n",
       "      <td>4.561143e+15</td>\n",
       "      <td>132.98</td>\n",
       "      <td>-19.116129</td>\n",
       "      <td>-592.60</td>\n",
       "      <td>31</td>\n",
       "      <td>-3.277027</td>\n",
       "      <td>-121.25</td>\n",
       "      <td>37</td>\n",
       "      <td>36614</td>\n",
       "    </tr>\n",
       "    <tr>\n",
       "      <th>232</th>\n",
       "      <td>1362508</td>\n",
       "      <td>13625083</td>\n",
       "      <td>133.47</td>\n",
       "      <td>4.561143e+15</td>\n",
       "      <td>260.21</td>\n",
       "      <td>4.044545</td>\n",
       "      <td>133.47</td>\n",
       "      <td>33</td>\n",
       "      <td>-2.067816</td>\n",
       "      <td>-179.90</td>\n",
       "      <td>87</td>\n",
       "      <td>9802</td>\n",
       "    </tr>\n",
       "    <tr>\n",
       "      <th>233</th>\n",
       "      <td>1363038</td>\n",
       "      <td>13630383</td>\n",
       "      <td>174.73</td>\n",
       "      <td>4.561143e+15</td>\n",
       "      <td>1800.00</td>\n",
       "      <td>5.300303</td>\n",
       "      <td>174.91</td>\n",
       "      <td>33</td>\n",
       "      <td>-72.552917</td>\n",
       "      <td>-1741.27</td>\n",
       "      <td>24</td>\n",
       "      <td>36605</td>\n",
       "    </tr>\n",
       "    <tr>\n",
       "      <th>234</th>\n",
       "      <td>1362895</td>\n",
       "      <td>13628953</td>\n",
       "      <td>-73.71</td>\n",
       "      <td>4.561143e+15</td>\n",
       "      <td>1300.00</td>\n",
       "      <td>-2.632500</td>\n",
       "      <td>-73.71</td>\n",
       "      <td>28</td>\n",
       "      <td>-47.680370</td>\n",
       "      <td>-1287.37</td>\n",
       "      <td>27</td>\n",
       "      <td>26387</td>\n",
       "    </tr>\n",
       "  </tbody>\n",
       "</table>\n",
       "<p>235 rows × 12 columns</p>\n",
       "</div>"
      ],
      "text/plain": [
       "     cust_id  savings_acct  total_saved   credit_acct  total_debt  \\\n",
       "0    1363160      13631603         9.50  4.561143e+15     -370.77   \n",
       "1    1362548      13625483         3.78  4.561143e+15    -6896.57   \n",
       "2    1362609      13626093      -709.02  4.561143e+15     1224.93   \n",
       "3    1363078      13630783       468.57  4.561143e+15    -1238.14   \n",
       "4    1362588      13625883      -242.53  4.561143e+15      546.55   \n",
       "..       ...           ...          ...           ...         ...   \n",
       "230  1363385      13633853      1215.74  4.561143e+15     -834.47   \n",
       "231  1363284      13632843      -593.23  4.561143e+15      132.98   \n",
       "232  1362508      13625083       133.47  4.561143e+15      260.21   \n",
       "233  1363038      13630383       174.73  4.561143e+15     1800.00   \n",
       "234  1362895      13628953       -73.71  4.561143e+15     1300.00   \n",
       "\n",
       "     sav_tran_avg  sav_tran_sum  sav_tran_count  cc_tran_avg  cc_tran_sum  \\\n",
       "0        0.197917          9.50              48     5.588676       380.03   \n",
       "1        0.315000          3.78              12   317.147727      6977.25   \n",
       "2      -22.854194       -708.48              31   -19.870455      -874.30   \n",
       "3       18.053077        469.38              26    26.281400      1314.07   \n",
       "4       -7.349394       -242.53              33    -9.502407      -513.13   \n",
       "..            ...           ...             ...          ...          ...   \n",
       "230     39.217419       1215.74              31    22.268947       846.22   \n",
       "231    -19.116129       -592.60              31    -3.277027      -121.25   \n",
       "232      4.044545        133.47              33    -2.067816      -179.90   \n",
       "233      5.300303        174.91              33   -72.552917     -1741.27   \n",
       "234     -2.632500        -73.71              28   -47.680370     -1287.37   \n",
       "\n",
       "     cc_tran_count  income  \n",
       "0               68   18548  \n",
       "1               22   44554  \n",
       "2               44    1929  \n",
       "3               50    9622  \n",
       "4               54    6354  \n",
       "..             ...     ...  \n",
       "230             38    2314  \n",
       "231             37   36614  \n",
       "232             87    9802  \n",
       "233             24   36605  \n",
       "234             27   26387  \n",
       "\n",
       "[235 rows x 12 columns]"
      ]
     },
     "execution_count": 8,
     "metadata": {},
     "output_type": "execute_result"
    }
   ],
   "source": [
    "bank_bhv"
   ]
  },
  {
   "cell_type": "code",
   "execution_count": 9,
   "metadata": {},
   "outputs": [
    {
     "data": {
      "text/html": [
       "<div>\n",
       "<style scoped>\n",
       "    .dataframe tbody tr th:only-of-type {\n",
       "        vertical-align: middle;\n",
       "    }\n",
       "\n",
       "    .dataframe tbody tr th {\n",
       "        vertical-align: top;\n",
       "    }\n",
       "\n",
       "    .dataframe thead th {\n",
       "        text-align: right;\n",
       "    }\n",
       "</style>\n",
       "<table border=\"1\" class=\"dataframe\">\n",
       "  <thead>\n",
       "    <tr style=\"text-align: right;\">\n",
       "      <th></th>\n",
       "      <th>total_saved</th>\n",
       "      <th>total_debt</th>\n",
       "      <th>sav_tran_avg</th>\n",
       "      <th>sav_tran_sum</th>\n",
       "      <th>sav_tran_count</th>\n",
       "      <th>cc_tran_avg</th>\n",
       "      <th>cc_tran_sum</th>\n",
       "      <th>cc_tran_count</th>\n",
       "      <th>income</th>\n",
       "    </tr>\n",
       "  </thead>\n",
       "  <tbody>\n",
       "    <tr>\n",
       "      <th>0</th>\n",
       "      <td>9.50</td>\n",
       "      <td>-370.77</td>\n",
       "      <td>0.197917</td>\n",
       "      <td>9.50</td>\n",
       "      <td>48</td>\n",
       "      <td>5.588676</td>\n",
       "      <td>380.03</td>\n",
       "      <td>68</td>\n",
       "      <td>18548</td>\n",
       "    </tr>\n",
       "    <tr>\n",
       "      <th>1</th>\n",
       "      <td>3.78</td>\n",
       "      <td>-6896.57</td>\n",
       "      <td>0.315000</td>\n",
       "      <td>3.78</td>\n",
       "      <td>12</td>\n",
       "      <td>317.147727</td>\n",
       "      <td>6977.25</td>\n",
       "      <td>22</td>\n",
       "      <td>44554</td>\n",
       "    </tr>\n",
       "    <tr>\n",
       "      <th>2</th>\n",
       "      <td>-709.02</td>\n",
       "      <td>1224.93</td>\n",
       "      <td>-22.854194</td>\n",
       "      <td>-708.48</td>\n",
       "      <td>31</td>\n",
       "      <td>-19.870455</td>\n",
       "      <td>-874.30</td>\n",
       "      <td>44</td>\n",
       "      <td>1929</td>\n",
       "    </tr>\n",
       "    <tr>\n",
       "      <th>3</th>\n",
       "      <td>468.57</td>\n",
       "      <td>-1238.14</td>\n",
       "      <td>18.053077</td>\n",
       "      <td>469.38</td>\n",
       "      <td>26</td>\n",
       "      <td>26.281400</td>\n",
       "      <td>1314.07</td>\n",
       "      <td>50</td>\n",
       "      <td>9622</td>\n",
       "    </tr>\n",
       "    <tr>\n",
       "      <th>4</th>\n",
       "      <td>-242.53</td>\n",
       "      <td>546.55</td>\n",
       "      <td>-7.349394</td>\n",
       "      <td>-242.53</td>\n",
       "      <td>33</td>\n",
       "      <td>-9.502407</td>\n",
       "      <td>-513.13</td>\n",
       "      <td>54</td>\n",
       "      <td>6354</td>\n",
       "    </tr>\n",
       "  </tbody>\n",
       "</table>\n",
       "</div>"
      ],
      "text/plain": [
       "   total_saved  total_debt  sav_tran_avg  sav_tran_sum  sav_tran_count  \\\n",
       "0         9.50     -370.77      0.197917          9.50              48   \n",
       "1         3.78    -6896.57      0.315000          3.78              12   \n",
       "2      -709.02     1224.93    -22.854194       -708.48              31   \n",
       "3       468.57    -1238.14     18.053077        469.38              26   \n",
       "4      -242.53      546.55     -7.349394       -242.53              33   \n",
       "\n",
       "   cc_tran_avg  cc_tran_sum  cc_tran_count  income  \n",
       "0     5.588676       380.03             68   18548  \n",
       "1   317.147727      6977.25             22   44554  \n",
       "2   -19.870455      -874.30             44    1929  \n",
       "3    26.281400      1314.07             50    9622  \n",
       "4    -9.502407      -513.13             54    6354  "
      ]
     },
     "execution_count": 9,
     "metadata": {},
     "output_type": "execute_result"
    }
   ],
   "source": [
    "bank_bhv.drop(columns=[\n",
    "    'cust_id','savings_acct','credit_acct'], inplace=True)\n",
    "bank_bhv.head()"
   ]
  },
  {
   "cell_type": "code",
   "execution_count": 10,
   "metadata": {},
   "outputs": [],
   "source": [
    "from sklearn.preprocessing import StandardScaler\n",
    "# Standardize the data\n",
    "scaler = StandardScaler()\n",
    "bank_bhv_sc = scaler.fit_transform(bank_bhv)"
   ]
  },
  {
   "cell_type": "code",
   "execution_count": 11,
   "metadata": {},
   "outputs": [
    {
     "data": {
      "text/plain": [
       "array([[-0.38040547, -0.34251622, -0.41453838, ...,  0.30399875,\n",
       "         1.12573716, -0.16995058],\n",
       "       [-0.38781565, -3.83605531, -0.40981213, ...,  3.82605941,\n",
       "        -0.97929981,  1.10284136],\n",
       "       [-1.31123837,  0.51173006, -1.34507272, ..., -0.36565095,\n",
       "         0.027457  , -0.9833217 ],\n",
       "       ...,\n",
       "       [-0.21980402, -0.00472571, -0.25926322, ...,  0.00506868,\n",
       "         1.99520895, -0.59799943],\n",
       "       [-0.16635225,  0.81958956, -0.20857261, ..., -0.82850059,\n",
       "        -0.88777646,  0.71379948],\n",
       "       [-0.4882029 ,  0.55191823, -0.52879256, ..., -0.5861768 ,\n",
       "        -0.75049144,  0.21370765]])"
      ]
     },
     "execution_count": 11,
     "metadata": {},
     "output_type": "execute_result"
    }
   ],
   "source": [
    "bank_bhv_sc"
   ]
  },
  {
   "cell_type": "code",
   "execution_count": 12,
   "metadata": {},
   "outputs": [
    {
     "name": "stderr",
     "output_type": "stream",
     "text": [
      "c:\\Users\\zarah\\anaconda3\\lib\\site-packages\\sklearn\\cluster\\_kmeans.py:1036: UserWarning: KMeans is known to have a memory leak on Windows with MKL, when there are less chunks than available threads. You can avoid it by setting the environment variable OMP_NUM_THREADS=1.\n",
      "  warnings.warn(\n"
     ]
    },
    {
     "data": {
      "image/png": "[encoded data removed]",
      "text/plain": [
       "<Figure size 800x550 with 2 Axes>"
      ]
     },
     "metadata": {},
     "output_type": "display_data"
    },
    {
     "data": {
      "text/plain": [
       "<AxesSubplot:title={'center':'Distortion Score Elbow for KMeans Clustering'}, xlabel='k', ylabel='distortion score'>"
      ]
     },
     "execution_count": 12,
     "metadata": {},
     "output_type": "execute_result"
    }
   ],
   "source": [
    "# Plotting Elbow Curve\n",
    "from sklearn.cluster import KMeans\n",
    "from yellowbrick.cluster import KElbowVisualizer\n",
    "from sklearn import metrics\n",
    "\n",
    "model = KMeans()\n",
    "visualizer = KElbowVisualizer(model, k=(1,10))\n",
    "visualizer.fit(bank_bhv_sc)    \n",
    "visualizer.poof()"
   ]
  },
  {
   "cell_type": "code",
   "execution_count": 13,
   "metadata": {},
   "outputs": [],
   "source": [
    "# KMeans of dataset\n",
    "kmeans= KMeans(n_clusters=2, random_state=0)\n",
    "kmeans.fit(bank_bhv_sc)\n",
    "k_labels = kmeans.labels_\n",
    "new_columns = kmeans.predict(bank_bhv_sc)\n",
    "clusters = pd.DataFrame(new_columns)"
   ]
  },
  {
   "cell_type": "code",
   "execution_count": 14,
   "metadata": {},
   "outputs": [],
   "source": [
    "# MinMax Scalar to bring all data onto relative 0-5 scale\n",
    "from sklearn.preprocessing import MinMaxScaler\n",
    "\n",
    "minmax = MinMaxScaler(feature_range=(0,5))\n",
    "minmax_df = minmax.fit_transform(bank_bhv)\n",
    "bank_bhv_mnmx = pd.DataFrame(minmax_df,columns=bank_bhv.columns.to_list())"
   ]
  },
  {
   "cell_type": "code",
   "execution_count": 15,
   "metadata": {},
   "outputs": [],
   "source": [
    "bank_bhv_df = pd.concat([bank_bhv_mnmx, clusters], axis=1)\n",
    "bank_bhv_df.rename(columns={0:'cluster'}, inplace=True)"
   ]
  },
  {
   "cell_type": "code",
   "execution_count": 16,
   "metadata": {},
   "outputs": [],
   "source": [
    "df_radar = bank_bhv_df.groupby('cluster').mean().divide(bank_bhv_df.drop('cluster',axis=1).mean())\n",
    "#df_radar = bank_bhv_df.groupby('cluster').mean()"
   ]
  },
  {
   "cell_type": "code",
   "execution_count": 17,
   "metadata": {},
   "outputs": [
    {
     "data": {
      "application/vnd.plotly.v1+json": {
       "config": {
        "plotlyServerURL": "https://plot.ly"
       },
       "data": [
        {
         "fill": "toself",
         "name": "Cluster 0",
         "r": [
          1.303958069065145,
          1.026930701592462,
          1.2602541567784775,
          1.304080683511165,
          1.3091442184350377,
          0.9474648351508792,
          0.9746044536767329,
          1.139308176100628,
          0.9692713672699032
         ],
         "theta": [
          "total_saved",
          "total_debt",
          "sav_tran_avg",
          "sav_tran_sum",
          "sav_tran_count",
          "cc_tran_avg",
          "cc_tran_sum",
          "cc_tran_count",
          "income"
         ],
         "type": "scatterpolar"
        },
        {
         "fill": "toself",
         "name": "Cluster 1",
         "r": [
          0.8575196551257143,
          0.9873762336285337,
          0.8780058640100893,
          0.8574621796041411,
          0.8550886476085761,
          1.0246258585230255,
          1.0119041623390306,
          0.9346992924528296,
          1.0144040465922333
         ],
         "theta": [
          "total_saved",
          "total_debt",
          "sav_tran_avg",
          "sav_tran_sum",
          "sav_tran_count",
          "cc_tran_avg",
          "cc_tran_sum",
          "cc_tran_count",
          "income"
         ],
         "type": "scatterpolar"
        }
       ],
       "layout": {
        "polar": {
         "radialaxis": {
          "range": [
           0,
           3
          ],
          "visible": true
         }
        },
        "showlegend": true,
        "template": {
         "data": {
          "bar": [
           {
            "error_x": {
             "color": "#2a3f5f"
            },
            "error_y": {
             "color": "#2a3f5f"
            },
            "marker": {
             "line": {
              "color": "#E5ECF6",
              "width": 0.5
             },
             "pattern": {
              "fillmode": "overlay",
              "size": 10,
              "solidity": 0.2
             }
            },
            "type": "bar"
           }
          ],
          "barpolar": [
           {
            "marker": {
             "line": {
              "color": "#E5ECF6",
              "width": 0.5
             },
             "pattern": {
              "fillmode": "overlay",
              "size": 10,
              "solidity": 0.2
             }
            },
            "type": "barpolar"
           }
          ],
          "carpet": [
           {
            "aaxis": {
             "endlinecolor": "#2a3f5f",
             "gridcolor": "white",
             "linecolor": "white",
             "minorgridcolor": "white",
             "startlinecolor": "#2a3f5f"
            },
            "baxis": {
             "endlinecolor": "#2a3f5f",
             "gridcolor": "white",
             "linecolor": "white",
             "minorgridcolor": "white",
             "startlinecolor": "#2a3f5f"
            },
            "type": "carpet"
           }
          ],
          "choropleth": [
           {
            "colorbar": {
             "outlinewidth": 0,
             "ticks": ""
            },
            "type": "choropleth"
           }
          ],
          "contour": [
           {
            "colorbar": {
             "outlinewidth": 0,
             "ticks": ""
            },
            "colorscale": [
             [
              0,
              "#0d0887"
             ],
             [
              0.1111111111111111,
              "#46039f"
             ],
             [
              0.2222222222222222,
              "#7201a8"
             ],
             [
              0.3333333333333333,
              "#9c179e"
             ],
             [
              0.4444444444444444,
              "#bd3786"
             ],
             [
              0.5555555555555556,
              "#d8576b"
             ],
             [
              0.6666666666666666,
              "#ed7953"
             ],
             [
              0.7777777777777778,
              "#fb9f3a"
             ],
             [
              0.8888888888888888,
              "#fdca26"
             ],
             [
              1,
              "#f0f921"
             ]
            ],
            "type": "contour"
           }
          ],
          "contourcarpet": [
           {
            "colorbar": {
             "outlinewidth": 0,
             "ticks": ""
            },
            "type": "contourcarpet"
           }
          ],
          "heatmap": [
           {
            "colorbar": {
             "outlinewidth": 0,
             "ticks": ""
            },
            "colorscale": [
             [
              0,
              "#0d0887"
             ],
             [
              0.1111111111111111,
              "#46039f"
             ],
             [
              0.2222222222222222,
              "#7201a8"
             ],
             [
              0.3333333333333333,
              "#9c179e"
             ],
             [
              0.4444444444444444,
              "#bd3786"
             ],
             [
              0.5555555555555556,
              "#d8576b"
             ],
             [
              0.6666666666666666,
              "#ed7953"
             ],
             [
              0.7777777777777778,
              "#fb9f3a"
             ],
             [
              0.8888888888888888,
              "#fdca26"
             ],
             [
              1,
              "#f0f921"
             ]
            ],
            "type": "heatmap"
           }
          ],
          "heatmapgl": [
           {
            "colorbar": {
             "outlinewidth": 0,
             "ticks": ""
            },
            "colorscale": [
             [
              0,
              "#0d0887"
             ],
             [
              0.1111111111111111,
              "#46039f"
             ],
             [
              0.2222222222222222,
              "#7201a8"
             ],
             [
              0.3333333333333333,
              "#9c179e"
             ],
             [
              0.4444444444444444,
              "#bd3786"
             ],
             [
              0.5555555555555556,
              "#d8576b"
             ],
             [
              0.6666666666666666,
              "#ed7953"
             ],
             [
              0.7777777777777778,
              "#fb9f3a"
             ],
             [
              0.8888888888888888,
              "#fdca26"
             ],
             [
              1,
              "#f0f921"
             ]
            ],
            "type": "heatmapgl"
           }
          ],
          "histogram": [
           {
            "marker": {
             "pattern": {
              "fillmode": "overlay",
              "size": 10,
              "solidity": 0.2
             }
            },
            "type": "histogram"
           }
          ],
          "histogram2d": [
           {
            "colorbar": {
             "outlinewidth": 0,
             "ticks": ""
            },
            "colorscale": [
             [
              0,
              "#0d0887"
             ],
             [
              0.1111111111111111,
              "#46039f"
             ],
             [
              0.2222222222222222,
              "#7201a8"
             ],
             [
              0.3333333333333333,
              "#9c179e"
             ],
             [
              0.4444444444444444,
              "#bd3786"
             ],
             [
              0.5555555555555556,
              "#d8576b"
             ],
             [
              0.6666666666666666,
              "#ed7953"
             ],
             [
              0.7777777777777778,
              "#fb9f3a"
             ],
             [
              0.8888888888888888,
              "#fdca26"
             ],
             [
              1,
              "#f0f921"
             ]
            ],
            "type": "histogram2d"
           }
          ],
          "histogram2dcontour": [
           {
            "colorbar": {
             "outlinewidth": 0,
             "ticks": ""
            },
            "colorscale": [
             [
              0,
              "#0d0887"
             ],
             [
              0.1111111111111111,
              "#46039f"
             ],
             [
              0.2222222222222222,
              "#7201a8"
             ],
             [
              0.3333333333333333,
              "#9c179e"
             ],
             [
              0.4444444444444444,
              "#bd3786"
             ],
             [
              0.5555555555555556,
              "#d8576b"
             ],
             [
              0.6666666666666666,
              "#ed7953"
             ],
             [
              0.7777777777777778,
              "#fb9f3a"
             ],
             [
              0.8888888888888888,
              "#fdca26"
             ],
             [
              1,
              "#f0f921"
             ]
            ],
            "type": "histogram2dcontour"
           }
          ],
          "mesh3d": [
           {
            "colorbar": {
             "outlinewidth": 0,
             "ticks": ""
            },
            "type": "mesh3d"
           }
          ],
          "parcoords": [
           {
            "line": {
             "colorbar": {
              "outlinewidth": 0,
              "ticks": ""
             }
            },
            "type": "parcoords"
           }
          ],
          "pie": [
           {
            "automargin": true,
            "type": "pie"
           }
          ],
          "scatter": [
           {
            "fillpattern": {
             "fillmode": "overlay",
             "size": 10,
             "solidity": 0.2
            },
            "type": "scatter"
           }
          ],
          "scatter3d": [
           {
            "line": {
             "colorbar": {
              "outlinewidth": 0,
              "ticks": ""
             }
            },
            "marker": {
             "colorbar": {
              "outlinewidth": 0,
              "ticks": ""
             }
            },
            "type": "scatter3d"
           }
          ],
          "scattercarpet": [
           {
            "marker": {
             "colorbar": {
              "outlinewidth": 0,
              "ticks": ""
             }
            },
            "type": "scattercarpet"
           }
          ],
          "scattergeo": [
           {
            "marker": {
             "colorbar": {
              "outlinewidth": 0,
              "ticks": ""
             }
            },
            "type": "scattergeo"
           }
          ],
          "scattergl": [
           {
            "marker": {
             "colorbar": {
              "outlinewidth": 0,
              "ticks": ""
             }
            },
            "type": "scattergl"
           }
          ],
          "scattermapbox": [
           {
            "marker": {
             "colorbar": {
              "outlinewidth": 0,
              "ticks": ""
             }
            },
            "type": "scattermapbox"
           }
          ],
          "scatterpolar": [
           {
            "marker": {
             "colorbar": {
              "outlinewidth": 0,
              "ticks": ""
             }
            },
            "type": "scatterpolar"
           }
          ],
          "scatterpolargl": [
           {
            "marker": {
             "colorbar": {
              "outlinewidth": 0,
              "ticks": ""
             }
            },
            "type": "scatterpolargl"
           }
          ],
          "scatterternary": [
           {
            "marker": {
             "colorbar": {
              "outlinewidth": 0,
              "ticks": ""
             }
            },
            "type": "scatterternary"
           }
          ],
          "surface": [
           {
            "colorbar": {
             "outlinewidth": 0,
             "ticks": ""
            },
            "colorscale": [
             [
              0,
              "#0d0887"
             ],
             [
              0.1111111111111111,
              "#46039f"
             ],
             [
              0.2222222222222222,
              "#7201a8"
             ],
             [
              0.3333333333333333,
              "#9c179e"
             ],
             [
              0.4444444444444444,
              "#bd3786"
             ],
             [
              0.5555555555555556,
              "#d8576b"
             ],
             [
              0.6666666666666666,
              "#ed7953"
             ],
             [
              0.7777777777777778,
              "#fb9f3a"
             ],
             [
              0.8888888888888888,
              "#fdca26"
             ],
             [
              1,
              "#f0f921"
             ]
            ],
            "type": "surface"
           }
          ],
          "table": [
           {
            "cells": {
             "fill": {
              "color": "#EBF0F8"
             },
             "line": {
              "color": "white"
             }
            },
            "header": {
             "fill": {
              "color": "#C8D4E3"
             },
             "line": {
              "color": "white"
             }
            },
            "type": "table"
           }
          ]
         },
         "layout": {
          "annotationdefaults": {
           "arrowcolor": "#2a3f5f",
           "arrowhead": 0,
           "arrowwidth": 1
          },
          "autotypenumbers": "strict",
          "coloraxis": {
           "colorbar": {
            "outlinewidth": 0,
            "ticks": ""
           }
          },
          "colorscale": {
           "diverging": [
            [
             0,
             "#8e0152"
            ],
            [
             0.1,
             "#c51b7d"
            ],
            [
             0.2,
             "#de77ae"
            ],
            [
             0.3,
             "#f1b6da"
            ],
            [
             0.4,
             "#fde0ef"
            ],
            [
             0.5,
             "#f7f7f7"
            ],
            [
             0.6,
             "#e6f5d0"
            ],
            [
             0.7,
             "#b8e186"
            ],
            [
             0.8,
             "#7fbc41"
            ],
            [
             0.9,
             "#4d9221"
            ],
            [
             1,
             "#276419"
            ]
           ],
           "sequential": [
            [
             0,
             "#0d0887"
            ],
            [
             0.1111111111111111,
             "#46039f"
            ],
            [
             0.2222222222222222,
             "#7201a8"
            ],
            [
             0.3333333333333333,
             "#9c179e"
            ],
            [
             0.4444444444444444,
             "#bd3786"
            ],
            [
             0.5555555555555556,
             "#d8576b"
            ],
            [
             0.6666666666666666,
             "#ed7953"
            ],
            [
             0.7777777777777778,
             "#fb9f3a"
            ],
            [
             0.8888888888888888,
             "#fdca26"
            ],
            [
             1,
             "#f0f921"
            ]
           ],
           "sequentialminus": [
            [
             0,
             "#0d0887"
            ],
            [
             0.1111111111111111,
             "#46039f"
            ],
            [
             0.2222222222222222,
             "#7201a8"
            ],
            [
             0.3333333333333333,
             "#9c179e"
            ],
            [
             0.4444444444444444,
             "#bd3786"
            ],
            [
             0.5555555555555556,
             "#d8576b"
            ],
            [
             0.6666666666666666,
             "#ed7953"
            ],
            [
             0.7777777777777778,
             "#fb9f3a"
            ],
            [
             0.8888888888888888,
             "#fdca26"
            ],
            [
             1,
             "#f0f921"
            ]
           ]
          },
          "colorway": [
           "#636efa",
           "#EF553B",
           "#00cc96",
           "#ab63fa",
           "#FFA15A",
           "#19d3f3",
           "#FF6692",
           "#B6E880",
           "#FF97FF",
           "#FECB52"
          ],
          "font": {
           "color": "#2a3f5f"
          },
          "geo": {
           "bgcolor": "white",
           "lakecolor": "white",
           "landcolor": "#E5ECF6",
           "showlakes": true,
           "showland": true,
           "subunitcolor": "white"
          },
          "hoverlabel": {
           "align": "left"
          },
          "hovermode": "closest",
          "mapbox": {
           "style": "light"
          },
          "paper_bgcolor": "white",
          "plot_bgcolor": "#E5ECF6",
          "polar": {
           "angularaxis": {
            "gridcolor": "white",
            "linecolor": "white",
            "ticks": ""
           },
           "bgcolor": "#E5ECF6",
           "radialaxis": {
            "gridcolor": "white",
            "linecolor": "white",
            "ticks": ""
           }
          },
          "scene": {
           "xaxis": {
            "backgroundcolor": "#E5ECF6",
            "gridcolor": "white",
            "gridwidth": 2,
            "linecolor": "white",
            "showbackground": true,
            "ticks": "",
            "zerolinecolor": "white"
           },
           "yaxis": {
            "backgroundcolor": "#E5ECF6",
            "gridcolor": "white",
            "gridwidth": 2,
            "linecolor": "white",
            "showbackground": true,
            "ticks": "",
            "zerolinecolor": "white"
           },
           "zaxis": {
            "backgroundcolor": "#E5ECF6",
            "gridcolor": "white",
            "gridwidth": 2,
            "linecolor": "white",
            "showbackground": true,
            "ticks": "",
            "zerolinecolor": "white"
           }
          },
          "shapedefaults": {
           "line": {
            "color": "#2a3f5f"
           }
          },
          "ternary": {
           "aaxis": {
            "gridcolor": "white",
            "linecolor": "white",
            "ticks": ""
           },
           "baxis": {
            "gridcolor": "white",
            "linecolor": "white",
            "ticks": ""
           },
           "bgcolor": "#E5ECF6",
           "caxis": {
            "gridcolor": "white",
            "linecolor": "white",
            "ticks": ""
           }
          },
          "title": {
           "x": 0.05
          },
          "xaxis": {
           "automargin": true,
           "gridcolor": "white",
           "linecolor": "white",
           "ticks": "",
           "title": {
            "standoff": 15
           },
           "zerolinecolor": "white",
           "zerolinewidth": 2
          },
          "yaxis": {
           "automargin": true,
           "gridcolor": "white",
           "linecolor": "white",
           "ticks": "",
           "title": {
            "standoff": 15
           },
           "zerolinecolor": "white",
           "zerolinewidth": 2
          }
         }
        }
       }
      }
     },
     "metadata": {},
     "output_type": "display_data"
    }
   ],
   "source": [
    "import plotly.graph_objects as go\n",
    "\n",
    "categories = df_radar.columns.to_list()\n",
    "fig = go.Figure()\n",
    "\n",
    "i=0\n",
    "for index, series in df_radar.iterrows():\n",
    "    r = []\n",
    "    r.append(series.values)\n",
    "    \n",
    "    fig.add_trace(go.Scatterpolar(\n",
    "        r=r[0],\n",
    "        theta=categories,\n",
    "        fill='toself',\n",
    "        name=f'Cluster {i}'))\n",
    "    i+=1\n",
    "\n",
    "fig.update_layout(\n",
    "  polar=dict(\n",
    "    radialaxis=dict(\n",
    "      visible=True,\n",
    "      range=[0, 3]\n",
    "    )),\n",
    "  showlegend=True)\n",
    "#fig.layout.polar.angularaxis.type=\"category\" # more imperative style\n",
    "\n",
    "fig.show()"
   ]
  }
 ],
 "metadata": {
  "kernelspec": {
   "display_name": "base",
   "language": "python",
   "name": "python3"
  },
  "language_info": {
   "codemirror_mode": {
    "name": "ipython",
    "version": 3
   },
   "file_extension": ".py",
   "mimetype": "text/x-python",
   "name": "python",
   "nbconvert_exporter": "python",
   "pygments_lexer": "ipython3",
   "version": "3.9.13"
  },
  "orig_nbformat": 4,
  "vscode": {
   "interpreter": {
    "hash": "21a44ce51b2455586308d7e2be6e57388f0fdfa4326b90885d398dc353b37081"
   }
  }
 },
 "nbformat": 4,
 "nbformat_minor": 2
}
